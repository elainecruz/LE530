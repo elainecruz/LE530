{
  "nbformat": 4,
  "nbformat_minor": 0,
  "metadata": {
    "kernelspec": {
      "display_name": "Python 3",
      "language": "python",
      "name": "python3"
    },
    "language_info": {
      "codemirror_mode": {
        "name": "ipython",
        "version": 3
      },
      "file_extension": ".py",
      "mimetype": "text/x-python",
      "name": "python",
      "nbconvert_exporter": "python",
      "pygments_lexer": "ipython3",
      "version": "3.6.3"
    },
    "colab": {
      "name": "ecf2 HMM Tagger.ipynb",
      "provenance": []
    }
  },
  "cells": [
    {
      "cell_type": "markdown",
      "metadata": {
        "id": "dXooL3xKOQgu",
        "colab_type": "text"
      },
      "source": [
        "# Project: Part of Speech Tagging with Hidden Markov Models \n",
        "---\n",
        "### Introduction\n",
        "\n",
        "Part of speech tagging is the process of determining the syntactic category of a word from the words in its surrounding context. It is often used to help disambiguate natural language phrases because it can be done quickly with high accuracy. Tagging can be used for many NLP tasks like determining correct pronunciation during speech synthesis (for example, _dis_-count as a noun vs dis-_count_ as a verb), for information retrieval, and for word sense disambiguation.\n",
        "\n",
        "In this notebook, you'll use the [Pomegranate](http://pomegranate.readthedocs.io/) library to build a hidden Markov model for part of speech tagging using a \"universal\" tagset. Hidden Markov models have been able to achieve [>96% tag accuracy with larger tagsets on realistic text corpora](http://www.coli.uni-saarland.de/~thorsten/publications/Brants-ANLP00.pdf). Hidden Markov models have also been used for speech recognition and speech generation, machine translation, gene recognition for bioinformatics, and human gesture recognition for computer vision, and more. \n",
        "\n",
        "![](https://github.com/rafaeln/hmm-tagger/blob/master/_post-hmm.png?raw=1)\n",
        "\n",
        "The notebook already contains some code to get you started. You only need to add some new functionality in the areas indicated to complete the project; you will not need to modify the included code beyond what is requested. Sections that begin with **'IMPLEMENTATION'** in the header indicate that you must provide code in the block that follows. Instructions will be provided for each section, and the specifics of the implementation are marked in the code block with a 'TODO' statement. Please be sure to read the instructions carefully!"
      ]
    },
    {
      "cell_type": "markdown",
      "metadata": {
        "id": "Qx6KD_SdOQg0",
        "colab_type": "text"
      },
      "source": [
        "<div class=\"alert alert-block alert-info\">\n",
        "**Note:** Once you have completed all of the code implementations, you need to finalize your work by exporting the iPython Notebook as an HTML document. Before exporting the notebook to html, all of the code cells need to have been run so that reviewers can see the final implementation and output. You must then **export the notebook** by running the last cell in the notebook, or by using the menu above and navigating to **File -> Download as -> HTML (.html)** Your submissions should include both the `html` and `ipynb` files.\n",
        "</div>"
      ]
    },
    {
      "cell_type": "markdown",
      "metadata": {
        "id": "b3xQ1dLuOQg2",
        "colab_type": "text"
      },
      "source": [
        "<div class=\"alert alert-block alert-info\">\n",
        "**Note:** Code and Markdown cells can be executed using the `Shift + Enter` keyboard shortcut. Markdown cells can be edited by double-clicking the cell to enter edit mode.\n",
        "</div>"
      ]
    },
    {
      "cell_type": "markdown",
      "metadata": {
        "id": "xanH9aEdOQg4",
        "colab_type": "text"
      },
      "source": [
        "### The Road Ahead\n",
        "You must complete Steps 1-3 below to pass the project. The section on Step 4 includes references & resources you can use to further explore HMM taggers.\n",
        "\n",
        "- [Step 1](#Step-1:-Read-and-preprocess-the-dataset): Review the provided interface to load and access the text corpus\n",
        "- [Step 2](#Step-2:-Build-a-Most-Frequent-Class-tagger): Build a Most Frequent Class tagger to use as a baseline\n",
        "- [Step 3](#Step-3:-Build-an-HMM-tagger): Build an HMM Part of Speech tagger and compare to the MFC baseline\n",
        "- [Step 4](#Step-4:-[Optional]-Improving-model-performance): (Optional) Improve the HMM tagger"
      ]
    },
    {
      "cell_type": "markdown",
      "metadata": {
        "id": "plB1qHMGOQg6",
        "colab_type": "text"
      },
      "source": [
        "<div class=\"alert alert-block alert-warning\">\n",
        "**Note:** Make sure you have selected a **Python 3** kernel in Workspaces or the hmm-tagger conda environment if you are running the Jupyter server on your own machine.\n",
        "</div>"
      ]
    },
    {
      "cell_type": "code",
      "metadata": {
        "id": "df_edNrlOQg-",
        "colab_type": "code",
        "outputId": "5c2c5e3a-c2ed-44e8-d59f-2006f5dbcdd2",
        "colab": {
          "base_uri": "https://localhost:8080/",
          "height": 767
        }
      },
      "source": [
        "!wget https://raw.githubusercontent.com/rafaeln/hmm-tagger/master/helpers.py -O helpers.py\n",
        "!wget https://raw.githubusercontent.com/rafaeln/hmm-tagger/master/tags-universal.txt -O tags-universal.txt\n",
        "!wget https://github.com/rafaeln/hmm-tagger/raw/master/brown-universal.txt -O brown-universal.txt\n",
        "!pip install pomegranate"
      ],
      "execution_count": 2,
      "outputs": [
        {
          "output_type": "stream",
          "text": [
            "--2019-09-29 03:45:15--  https://raw.githubusercontent.com/rafaeln/hmm-tagger/master/helpers.py\n",
            "Resolving raw.githubusercontent.com (raw.githubusercontent.com)... 151.101.0.133, 151.101.64.133, 151.101.128.133, ...\n",
            "Connecting to raw.githubusercontent.com (raw.githubusercontent.com)|151.101.0.133|:443... connected.\n",
            "HTTP request sent, awaiting response... 200 OK\n",
            "Length: 5449 (5.3K) [text/plain]\n",
            "Saving to: ‘helpers.py’\n",
            "\n",
            "\rhelpers.py            0%[                    ]       0  --.-KB/s               \rhelpers.py          100%[===================>]   5.32K  --.-KB/s    in 0s      \n",
            "\n",
            "2019-09-29 03:45:15 (61.0 MB/s) - ‘helpers.py’ saved [5449/5449]\n",
            "\n",
            "--2019-09-29 03:45:17--  https://raw.githubusercontent.com/rafaeln/hmm-tagger/master/tags-universal.txt\n",
            "Resolving raw.githubusercontent.com (raw.githubusercontent.com)... 151.101.0.133, 151.101.64.133, 151.101.128.133, ...\n",
            "Connecting to raw.githubusercontent.com (raw.githubusercontent.com)|151.101.0.133|:443... connected.\n",
            "HTTP request sent, awaiting response... 200 OK\n",
            "Length: 47 [text/plain]\n",
            "Saving to: ‘tags-universal.txt’\n",
            "\n",
            "tags-universal.txt  100%[===================>]      47  --.-KB/s    in 0s      \n",
            "\n",
            "2019-09-29 03:45:17 (11.4 MB/s) - ‘tags-universal.txt’ saved [47/47]\n",
            "\n",
            "--2019-09-29 03:45:18--  https://github.com/rafaeln/hmm-tagger/raw/master/brown-universal.txt\n",
            "Resolving github.com (github.com)... 192.30.253.112\n",
            "Connecting to github.com (github.com)|192.30.253.112|:443... connected.\n",
            "HTTP request sent, awaiting response... 302 Found\n",
            "Location: https://raw.githubusercontent.com/rafaeln/hmm-tagger/master/brown-universal.txt [following]\n",
            "--2019-09-29 03:45:19--  https://raw.githubusercontent.com/rafaeln/hmm-tagger/master/brown-universal.txt\n",
            "Resolving raw.githubusercontent.com (raw.githubusercontent.com)... 151.101.0.133, 151.101.64.133, 151.101.128.133, ...\n",
            "Connecting to raw.githubusercontent.com (raw.githubusercontent.com)|151.101.0.133|:443... connected.\n",
            "HTTP request sent, awaiting response... 200 OK\n",
            "Length: 11696713 (11M) [text/plain]\n",
            "Saving to: ‘brown-universal.txt’\n",
            "\n",
            "brown-universal.txt 100%[===================>]  11.15M  --.-KB/s    in 0.1s    \n",
            "\n",
            "2019-09-29 03:45:19 (80.3 MB/s) - ‘brown-universal.txt’ saved [11696713/11696713]\n",
            "\n",
            "Requirement already satisfied: pomegranate in /usr/local/lib/python3.6/dist-packages (0.11.1)\n",
            "Requirement already satisfied: networkx>=2.0 in /usr/local/lib/python3.6/dist-packages (from pomegranate) (2.3)\n",
            "Requirement already satisfied: pyyaml in /usr/local/lib/python3.6/dist-packages (from pomegranate) (3.13)\n",
            "Requirement already satisfied: joblib>=0.9.0b4 in /usr/local/lib/python3.6/dist-packages (from pomegranate) (0.13.2)\n",
            "Requirement already satisfied: scipy>=0.17.0 in /usr/local/lib/python3.6/dist-packages (from pomegranate) (1.3.1)\n",
            "Requirement already satisfied: numpy>=1.8.0 in /usr/local/lib/python3.6/dist-packages (from pomegranate) (1.16.5)\n",
            "Requirement already satisfied: decorator>=4.3.0 in /usr/local/lib/python3.6/dist-packages (from networkx>=2.0->pomegranate) (4.4.0)\n"
          ],
          "name": "stdout"
        }
      ]
    },
    {
      "cell_type": "code",
      "metadata": {
        "id": "LGiy8L31OQhH",
        "colab_type": "code",
        "colab": {}
      },
      "source": [
        "# Jupyter \"magic methods\" -- only need to be run once per kernel restart\n",
        "%load_ext autoreload\n",
        "%aimport helpers\n",
        "%autoreload 1"
      ],
      "execution_count": 0,
      "outputs": []
    },
    {
      "cell_type": "code",
      "metadata": {
        "id": "HhmoLj8bOQhM",
        "colab_type": "code",
        "colab": {}
      },
      "source": [
        "# import python modules -- this cell needs to be run again if you make changes to any of the files\n",
        "import matplotlib.pyplot as plt\n",
        "import numpy as np\n",
        "\n",
        "from IPython.core.display import HTML\n",
        "from itertools import chain\n",
        "from collections import Counter, defaultdict\n",
        "from helpers import show_model, Dataset\n",
        "from pomegranate import State, HiddenMarkovModel, DiscreteDistribution"
      ],
      "execution_count": 0,
      "outputs": []
    },
    {
      "cell_type": "markdown",
      "metadata": {
        "id": "DQGvzEfiOQhV",
        "colab_type": "text"
      },
      "source": [
        "## Step 1: Read and preprocess the dataset\n",
        "---\n",
        "We'll start by reading in a text corpus and splitting it into a training and testing dataset. The data set is a copy of the [Brown corpus](https://en.wikipedia.org/wiki/Brown_Corpus) (originally from the [NLTK](https://www.nltk.org/) library) that has already been pre-processed to only include the [universal tagset](https://arxiv.org/pdf/1104.2086.pdf). You should expect to get slightly higher accuracy using this simplified tagset than the same model would achieve on a larger tagset like the full [Penn treebank tagset](https://www.ling.upenn.edu/courses/Fall_2003/ling001/penn_treebank_pos.html), but the process you'll follow would be the same.\n",
        "\n",
        "The `Dataset` class provided in helpers.py will read and parse the corpus. You can generate your own datasets compatible with the reader by writing them to the following format. The dataset is stored in plaintext as a collection of words and corresponding tags. Each sentence starts with a unique identifier on the first line, followed by one tab-separated word/tag pair on each following line. Sentences are separated by a single blank line.\n",
        "\n",
        "Example from the Brown corpus. \n",
        "```\n",
        "b100-38532\n",
        "Perhaps\tADV\n",
        "it\tPRON\n",
        "was\tVERB\n",
        "right\tADJ\n",
        ";\t.\n",
        ";\t.\n",
        "\n",
        "b100-35577\n",
        "...\n",
        "```"
      ]
    },
    {
      "cell_type": "code",
      "metadata": {
        "id": "rg40Qtd9OQhW",
        "colab_type": "code",
        "outputId": "f54453da-eeb8-4d5c-cfb6-6c70343e718f",
        "colab": {
          "base_uri": "https://localhost:8080/",
          "height": 67
        }
      },
      "source": [
        "data = Dataset(\"tags-universal.txt\", \"brown-universal.txt\", train_test_split=0.8)\n",
        "\n",
        "print(\"There are {} sentences in the corpus.\".format(len(data)))\n",
        "print(\"There are {} sentences in the training set.\".format(len(data.training_set)))\n",
        "print(\"There are {} sentences in the testing set.\".format(len(data.testing_set)))\n",
        "\n",
        "assert len(data) == len(data.training_set) + len(data.testing_set), \\\n",
        "       \"The number of sentences in the training set + testing set should sum to the number of sentences in the corpus\""
      ],
      "execution_count": 5,
      "outputs": [
        {
          "output_type": "stream",
          "text": [
            "There are 57340 sentences in the corpus.\n",
            "There are 45872 sentences in the training set.\n",
            "There are 11468 sentences in the testing set.\n"
          ],
          "name": "stdout"
        }
      ]
    },
    {
      "cell_type": "markdown",
      "metadata": {
        "id": "oolZjWfWOQhb",
        "colab_type": "text"
      },
      "source": [
        "### The Dataset Interface\n",
        "\n",
        "You can access (mostly) immutable references to the dataset through a simple interface provided through the `Dataset` class, which represents an iterable collection of sentences along with easy access to partitions of the data for training & testing. Review the reference below, then run and review the next few cells to make sure you understand the interface before moving on to the next step.\n",
        "\n",
        "```\n",
        "Dataset-only Attributes:\n",
        "    training_set - reference to a Subset object containing the samples for training\n",
        "    testing_set - reference to a Subset object containing the samples for testing\n",
        "\n",
        "Dataset & Subset Attributes:\n",
        "    sentences - a dictionary with an entry {sentence_key: Sentence()} for each sentence in the corpus\n",
        "    keys - an immutable ordered (not sorted) collection of the sentence_keys for the corpus\n",
        "    vocab - an immutable collection of the unique words in the corpus\n",
        "    tagset - an immutable collection of the unique tags in the corpus\n",
        "    X - returns an array of words grouped by sentences ((w11, w12, w13, ...), (w21, w22, w23, ...), ...)\n",
        "    Y - returns an array of tags grouped by sentences ((t11, t12, t13, ...), (t21, t22, t23, ...), ...)\n",
        "    N - returns the number of distinct samples (individual words or tags) in the dataset\n",
        "\n",
        "Methods:\n",
        "    stream() - returns an flat iterable over all (word, tag) pairs across all sentences in the corpus\n",
        "    __iter__() - returns an iterable over the data as (sentence_key, Sentence()) pairs\n",
        "    __len__() - returns the nubmer of sentences in the dataset\n",
        "```\n",
        "\n",
        "For example, consider a Subset, `subset`, of the sentences `{\"s0\": Sentence((\"See\", \"Spot\", \"run\"), (\"VERB\", \"NOUN\", \"VERB\")), \"s1\": Sentence((\"Spot\", \"ran\"), (\"NOUN\", \"VERB\"))}`. The subset will have these attributes:\n",
        "\n",
        "```\n",
        "subset.keys == {\"s1\", \"s0\"}  # unordered\n",
        "subset.vocab == {\"See\", \"run\", \"ran\", \"Spot\"}  # unordered\n",
        "subset.tagset == {\"VERB\", \"NOUN\"}  # unordered\n",
        "subset.X == ((\"Spot\", \"ran\"), (\"See\", \"Spot\", \"run\"))  # order matches .keys\n",
        "subset.Y == ((\"NOUN\", \"VERB\"), (\"VERB\", \"NOUN\", \"VERB\"))  # order matches .keys\n",
        "subset.N == 7  # there are a total of seven observations over all sentences\n",
        "len(subset) == 2  # because there are two sentences\n",
        "```\n",
        "\n",
        "<div class=\"alert alert-block alert-info\">\n",
        "**Note:** The `Dataset` class is _convenient_, but it is **not** efficient. It is not suitable for huge datasets because it stores multiple redundant copies of the same data.\n",
        "</div>"
      ]
    },
    {
      "cell_type": "markdown",
      "metadata": {
        "id": "iIDSXmNDOQhc",
        "colab_type": "text"
      },
      "source": [
        "#### Sentences\n",
        "\n",
        "`Dataset.sentences` is a dictionary of all sentences in the training corpus, each keyed to a unique sentence identifier. Each `Sentence` is itself an object with two attributes: a tuple of the words in the sentence named `words` and a tuple of the tag corresponding to each word named `tags`."
      ]
    },
    {
      "cell_type": "code",
      "metadata": {
        "id": "stXVl44YOQhh",
        "colab_type": "code",
        "outputId": "16343b67-a84f-47f0-f3e0-487eeddfe2d7",
        "colab": {
          "base_uri": "https://localhost:8080/",
          "height": 100
        }
      },
      "source": [
        "key = 'b100-38532'\n",
        "print(\"Sentence: {}\".format(key))\n",
        "print(\"words:\\n\\t{!s}\".format(data.sentences[key].words))\n",
        "print(\"tags:\\n\\t{!s}\".format(data.sentences[key].tags))"
      ],
      "execution_count": 6,
      "outputs": [
        {
          "output_type": "stream",
          "text": [
            "Sentence: b100-38532\n",
            "words:\n",
            "\t('Perhaps', 'it', 'was', 'right', ';', ';')\n",
            "tags:\n",
            "\t('ADV', 'PRON', 'VERB', 'ADJ', '.', '.')\n"
          ],
          "name": "stdout"
        }
      ]
    },
    {
      "cell_type": "markdown",
      "metadata": {
        "id": "p558fljwOQhl",
        "colab_type": "text"
      },
      "source": [
        "<div class=\"alert alert-block alert-info\">\n",
        "**Note:** The underlying iterable sequence is **unordered** over the sentences in the corpus; it is not guaranteed to return the sentences in a consistent order between calls. Use `Dataset.stream()`, `Dataset.keys`, `Dataset.X`, or `Dataset.Y` attributes if you need ordered access to the data.\n",
        "</div>\n",
        "\n",
        "#### Counting Unique Elements\n",
        "\n",
        "You can access the list of unique words (the dataset vocabulary) via `Dataset.vocab` and the unique list of tags via `Dataset.tagset`."
      ]
    },
    {
      "cell_type": "code",
      "metadata": {
        "id": "OgJ_-ONsOQhn",
        "colab_type": "code",
        "outputId": "ec679e30-ea9e-4d39-e14c-ed9e2f257a92",
        "colab": {
          "base_uri": "https://localhost:8080/",
          "height": 83
        }
      },
      "source": [
        "print(\"There are a total of {} samples of {} unique words in the corpus.\"\n",
        "      .format(data.N, len(data.vocab)))\n",
        "print(\"There are {} samples of {} unique words in the training set.\"\n",
        "      .format(data.training_set.N, len(data.training_set.vocab)))\n",
        "print(\"There are {} samples of {} unique words in the testing set.\"\n",
        "      .format(data.testing_set.N, len(data.testing_set.vocab)))\n",
        "print(\"There are {} words in the test set that are missing in the training set.\"\n",
        "      .format(len(data.testing_set.vocab - data.training_set.vocab)))\n",
        "\n",
        "assert data.N == data.training_set.N + data.testing_set.N, \\\n",
        "       \"The number of training + test samples should sum to the total number of samples\""
      ],
      "execution_count": 7,
      "outputs": [
        {
          "output_type": "stream",
          "text": [
            "There are a total of 1161192 samples of 56057 unique words in the corpus.\n",
            "There are 928458 samples of 50536 unique words in the training set.\n",
            "There are 232734 samples of 25112 unique words in the testing set.\n",
            "There are 5521 words in the test set that are missing in the training set.\n"
          ],
          "name": "stdout"
        }
      ]
    },
    {
      "cell_type": "markdown",
      "metadata": {
        "id": "scugqH1SOQhs",
        "colab_type": "text"
      },
      "source": [
        "#### Accessing word and tag Sequences\n",
        "The `Dataset.X` and `Dataset.Y` attributes provide access to ordered collections of matching word and tag sequences for each sentence in the dataset."
      ]
    },
    {
      "cell_type": "code",
      "metadata": {
        "id": "OUGf0ASuOQhu",
        "colab_type": "code",
        "outputId": "09c6248b-32af-405e-dbc0-9d1055704072",
        "colab": {
          "base_uri": "https://localhost:8080/",
          "height": 170
        }
      },
      "source": [
        "# accessing words with Dataset.X and tags with Dataset.Y \n",
        "for i in range(2):    \n",
        "    print(\"Sentence {}:\".format(i + 1), data.X[i])\n",
        "    print()\n",
        "    print(\"Labels {}:\".format(i + 1), data.Y[i])\n",
        "    print()"
      ],
      "execution_count": 8,
      "outputs": [
        {
          "output_type": "stream",
          "text": [
            "Sentence 1: ('Mr.', 'Podger', 'had', 'thanked', 'him', 'gravely', ',', 'and', 'now', 'he', 'made', 'use', 'of', 'the', 'advice', '.')\n",
            "\n",
            "Labels 1: ('NOUN', 'NOUN', 'VERB', 'VERB', 'PRON', 'ADV', '.', 'CONJ', 'ADV', 'PRON', 'VERB', 'NOUN', 'ADP', 'DET', 'NOUN', '.')\n",
            "\n",
            "Sentence 2: ('But', 'there', 'seemed', 'to', 'be', 'some', 'difference', 'of', 'opinion', 'as', 'to', 'how', 'far', 'the', 'board', 'should', 'go', ',', 'and', 'whose', 'advice', 'it', 'should', 'follow', '.')\n",
            "\n",
            "Labels 2: ('CONJ', 'PRT', 'VERB', 'PRT', 'VERB', 'DET', 'NOUN', 'ADP', 'NOUN', 'ADP', 'ADP', 'ADV', 'ADV', 'DET', 'NOUN', 'VERB', 'VERB', '.', 'CONJ', 'DET', 'NOUN', 'PRON', 'VERB', 'VERB', '.')\n",
            "\n"
          ],
          "name": "stdout"
        }
      ]
    },
    {
      "cell_type": "markdown",
      "metadata": {
        "id": "RNqfs3d0OQh0",
        "colab_type": "text"
      },
      "source": [
        "#### Accessing (word, tag) Samples\n",
        "The `Dataset.stream()` method returns an iterator that chains together every pair of (word, tag) entries across all sentences in the entire corpus."
      ]
    },
    {
      "cell_type": "code",
      "metadata": {
        "id": "NLB5BuyDOQh1",
        "colab_type": "code",
        "outputId": "11445fc8-9759-4e99-ad83-63d3bc97a228",
        "colab": {
          "base_uri": "https://localhost:8080/",
          "height": 183
        }
      },
      "source": [
        "# use Dataset.stream() (word, tag) samples for the entire corpus\n",
        "print(\"\\nStream (word, tag) pairs:\\n\")\n",
        "for i, pair in enumerate(data.stream()):\n",
        "    print(\"\\t\", pair)\n",
        "    if i > 5: break"
      ],
      "execution_count": 9,
      "outputs": [
        {
          "output_type": "stream",
          "text": [
            "\n",
            "Stream (word, tag) pairs:\n",
            "\n",
            "\t ('Mr.', 'NOUN')\n",
            "\t ('Podger', 'NOUN')\n",
            "\t ('had', 'VERB')\n",
            "\t ('thanked', 'VERB')\n",
            "\t ('him', 'PRON')\n",
            "\t ('gravely', 'ADV')\n",
            "\t (',', '.')\n"
          ],
          "name": "stdout"
        }
      ]
    },
    {
      "cell_type": "markdown",
      "metadata": {
        "id": "1nOUHh7KOQh8",
        "colab_type": "text"
      },
      "source": [
        "\n",
        "For both our baseline tagger and the HMM model we'll build, we need to estimate the frequency of tags & words from the frequency counts of observations in the training corpus. In the next several cells you will complete functions to compute the counts of several sets of counts. "
      ]
    },
    {
      "cell_type": "markdown",
      "metadata": {
        "id": "Z5X1z2QUOQh9",
        "colab_type": "text"
      },
      "source": [
        "## Step 2: Build a Most Frequent Class tagger\n",
        "---\n",
        "\n",
        "Perhaps the simplest tagger (and a good baseline for tagger performance) is to simply choose the tag most frequently assigned to each word. This \"most frequent class\" tagger inspects each observed word in the sequence and assigns it the label that was most often assigned to that word in the corpus."
      ]
    },
    {
      "cell_type": "markdown",
      "metadata": {
        "id": "GjmsYWBJOQh_",
        "colab_type": "text"
      },
      "source": [
        "### IMPLEMENTATION: Pair Counts\n",
        "\n",
        "Complete the function below that computes the joint frequency counts for two input sequences."
      ]
    },
    {
      "cell_type": "code",
      "metadata": {
        "id": "6gkI20U2OQiA",
        "colab_type": "code",
        "outputId": "511d6cbe-f055-4ef1-ce42-f9d9ea16285c",
        "colab": {
          "base_uri": "https://localhost:8080/",
          "height": 33
        }
      },
      "source": [
        "def pair_counts(words, tags):\n",
        "  \n",
        "  #Creating dictionary that'll have the pair word and its tag\n",
        "  pairs = dict()\n",
        "   \n",
        "  #Saving the size of words/tags in a variable to have the range of the loop\n",
        "  size = len(words)\n",
        "    \n",
        "  #A for that iterates through tags and using the tag as a key adds a word that has \n",
        "  for i in range(size):\n",
        "    #This if checks if there's isn't this tag yet and if not creates the list\n",
        "    if(not tags[i] in pairs.keys()):\n",
        "      pairs[tags[i]] = []\n",
        "      \n",
        "    #Putting the word in words[i] that has the tag in tags[i] in the position of the dictionary with the key tags[i]\n",
        "    pairs[tags[i]].append(words[i])\n",
        "  \n",
        "  #Creates the dictionary that will be returned \n",
        "  pair_counts = dict()\n",
        "    \n",
        "  #A for that iterates through all the keys(aka all unique tags) and returns a dictionary with the word and the amount of time it repeats with that tag\n",
        "  for tag in pairs.keys():\n",
        "    pair_counts[tag] = Counter(pairs[tag])  \n",
        "   \n",
        "  return pair_counts\n",
        "  raise NotImplementedError\n",
        "    \n",
        "# Calculate C(t_i, w_i)\n",
        "words,tags = [], []\n",
        "size = len(data.training_set.X )\n",
        "\n",
        "# A for that will iterate through the elements in data.training_set.X and data.training_set.Y to transform this list of lists into a simple list\n",
        "for i in range(size):\n",
        "    words.extend(data.training_set.X[i])\n",
        "    tags.extend(data.training_set.Y[i])\n",
        "\n",
        "#Calling the function that returns the pair_counts dictionary\n",
        "emission_counts = pair_counts(words, tags)\n",
        "\n",
        "assert len(emission_counts) == 12, \\\n",
        "       \"Uh oh. There should be 12 tags in your dictionary.\"\n",
        "assert max(emission_counts[\"NOUN\"], key=emission_counts[\"NOUN\"].get) == 'time', \\\n",
        "       \"Hmmm...'time' is expected to be the most common NOUN.\"\n",
        "HTML('<div class=\"alert alert-block alert-success\">Your emission counts look good!</div>')"
      ],
      "execution_count": 10,
      "outputs": [
        {
          "output_type": "execute_result",
          "data": {
            "text/html": [
              "<div class=\"alert alert-block alert-success\">Your emission counts look good!</div>"
            ],
            "text/plain": [
              "<IPython.core.display.HTML object>"
            ]
          },
          "metadata": {
            "tags": []
          },
          "execution_count": 10
        }
      ]
    },
    {
      "cell_type": "markdown",
      "metadata": {
        "id": "pFvT0yDMOQiF",
        "colab_type": "text"
      },
      "source": [
        "### IMPLEMENTATION: Most Frequent Class Tagger\n",
        "\n",
        "Use the `pair_counts()` function and the training dataset to find the most frequent class label for each word in the training data, and populate the `mfc_table` below. The table keys should be words, and the values should be the appropriate tag string.\n",
        "\n",
        "The `MFCTagger` class is provided to mock the interface of Pomegranite HMM models so that they can be used interchangeably."
      ]
    },
    {
      "cell_type": "code",
      "metadata": {
        "id": "i-r9jG92OQiG",
        "colab_type": "code",
        "outputId": "abfcf466-0571-421b-8a95-cf8de936f0d3",
        "colab": {
          "base_uri": "https://localhost:8080/",
          "height": 33
        }
      },
      "source": [
        "# Create a lookup table mfc_table where mfc_table[word] contains the tag label most frequently assigned to that word\n",
        "from collections import namedtuple\n",
        "\n",
        "FakeState = namedtuple(\"FakeState\", \"name\")\n",
        "\n",
        "class MFCTagger:\n",
        "    # NOTE: You should not need to modify this class or any of its methods\n",
        "    missing = FakeState(name=\"<MISSING>\")\n",
        "    \n",
        "    def __init__(self, table):\n",
        "        self.table = defaultdict(lambda: MFCTagger.missing)\n",
        "        self.table.update({word: FakeState(name=tag) for word, tag in table.items()})\n",
        "        \n",
        "    def viterbi(self, seq):\n",
        "        \"\"\"This method simplifies predictions by matching the Pomegranate viterbi() interface\"\"\"\n",
        "        return 0., list(enumerate([\"<start>\"] + [self.table[w] for w in seq] + [\"<end>\"]))\n",
        "\n",
        "\n",
        "# TODO: calculate the frequency of each tag being assigned to each word (hint: similar, but not\n",
        "# the same as the emission probabilities) and use it to fill the mfc_table\n",
        "\n",
        "\n",
        "# Initializing the dictionary with the unique words of the training_data and a \"random\" tag\n",
        "most_frequent_tag = dict(zip(data.training_set.vocab, data.training_set.tagset))\n",
        "\n",
        "#Creating array for the biggest frequency of a tagset for each word\n",
        "number_frequent = []\n",
        "\n",
        "#Initializing the array with zeros\n",
        "for i in range(len(data.training_set.vocab)):\n",
        "  number_frequent.append(0)\n",
        "  \n",
        "#Creating a auxiliar dictionary that'll have the pairs word and its most frequent value of tagset\n",
        "aux = dict (zip(data.training_set.vocab, number_frequent))\n",
        "\n",
        "#Making word_counts receive the pairs_counts\n",
        "word_counts = pair_counts(words,tags)\n",
        "\n",
        "\n",
        "''''Going through word_counts and analysing if the number associated to the the word marked with the tagset is bigger than the one associated in the auxiliar dictionary and, if so, \n",
        "# updating the auxiliar dictionary with the biggest frequency so far and putting the corresponding tagset in the most_frequent_tagset dictionary '''\n",
        "\n",
        "for i in word_counts:\n",
        "  for j in word_counts[i]:\n",
        "     if word_counts[i][j]> aux[j]:\n",
        "      aux[j] =  word_counts[i][j]\n",
        "      most_frequent_tag[j] = i\n",
        "\n",
        "mfc_table = most_frequent_tag\n",
        "\n",
        "# DO NOT MODIFY BELOW THIS LINE\n",
        "mfc_model = MFCTagger(mfc_table) # Create a Most Frequent Class tagger instance\n",
        "\n",
        "assert len(mfc_table) == len(data.training_set.vocab), \"\"\n",
        "assert all(k in data.training_set.vocab for k in mfc_table.keys()), \"\"\n",
        "assert sum(int(k not in mfc_table) for k in data.testing_set.vocab) == 5521, \"\"\n",
        "HTML('<div class=\"alert alert-block alert-success\">Your MFC tagger has all the correct words!</div>')"
      ],
      "execution_count": 11,
      "outputs": [
        {
          "output_type": "execute_result",
          "data": {
            "text/html": [
              "<div class=\"alert alert-block alert-success\">Your MFC tagger has all the correct words!</div>"
            ],
            "text/plain": [
              "<IPython.core.display.HTML object>"
            ]
          },
          "metadata": {
            "tags": []
          },
          "execution_count": 11
        }
      ]
    },
    {
      "cell_type": "markdown",
      "metadata": {
        "id": "dCQCuFm3OQiL",
        "colab_type": "text"
      },
      "source": [
        "### Making Predictions with a Model\n",
        "The helper functions provided below interface with Pomegranate network models & the mocked MFCTagger to take advantage of the [missing value](http://pomegranate.readthedocs.io/en/latest/nan.html) functionality in Pomegranate through a simple sequence decoding function. Run these functions, then run the next cell to see some of the predictions made by the MFC tagger."
      ]
    },
    {
      "cell_type": "code",
      "metadata": {
        "id": "KjNNpg1aOQiN",
        "colab_type": "code",
        "colab": {}
      },
      "source": [
        "def replace_unknown(sequence):\n",
        "    \"\"\"Return a copy of the input sequence where each unknown word is replaced\n",
        "    by the literal string value 'nan'. Pomegranate will ignore these values\n",
        "    during computation.\n",
        "    \"\"\"\n",
        "    return [w if w in data.training_set.vocab else 'nan' for w in sequence]\n",
        "\n",
        "def simplify_decoding(X, model):\n",
        "    \"\"\"X should be a 1-D sequence of observations for the model to predict\"\"\"\n",
        "    _, state_path = model.viterbi(replace_unknown(X))\n",
        "    return [state[1].name for state in state_path[1:-1]]  # do not show the start/end state predictions"
      ],
      "execution_count": 0,
      "outputs": []
    },
    {
      "cell_type": "markdown",
      "metadata": {
        "id": "987KtIJeOQiS",
        "colab_type": "text"
      },
      "source": [
        "### Example Decoding Sequences with MFC Tagger"
      ]
    },
    {
      "cell_type": "code",
      "metadata": {
        "id": "3QjMbpZaOQiU",
        "colab_type": "code",
        "outputId": "63446254-6889-4bc6-ef6d-c753206c5f00",
        "colab": {
          "base_uri": "https://localhost:8080/",
          "height": 587
        }
      },
      "source": [
        "for key in data.testing_set.keys[:3]:\n",
        "    print(\"Sentence Key: {}\\n\".format(key))\n",
        "    print(\"Predicted labels:\\n-----------------\")\n",
        "    print(simplify_decoding(data.sentences[key].words, mfc_model))\n",
        "    print()\n",
        "    print(\"Actual labels:\\n--------------\")\n",
        "    print(data.sentences[key].tags)\n",
        "    print(\"\\n\")"
      ],
      "execution_count": 13,
      "outputs": [
        {
          "output_type": "stream",
          "text": [
            "Sentence Key: b100-28144\n",
            "\n",
            "Predicted labels:\n",
            "-----------------\n",
            "['CONJ', 'NOUN', 'NUM', '.', 'NOUN', 'NUM', '.', 'NOUN', 'NUM', '.', 'CONJ', 'NOUN', 'NUM', '.', '.', 'NOUN', '.', '.']\n",
            "\n",
            "Actual labels:\n",
            "--------------\n",
            "('CONJ', 'NOUN', 'NUM', '.', 'NOUN', 'NUM', '.', 'NOUN', 'NUM', '.', 'CONJ', 'NOUN', 'NUM', '.', '.', 'NOUN', '.', '.')\n",
            "\n",
            "\n",
            "Sentence Key: b100-23146\n",
            "\n",
            "Predicted labels:\n",
            "-----------------\n",
            "['PRON', 'VERB', 'DET', 'NOUN', 'ADP', 'ADJ', 'ADJ', 'NOUN', 'VERB', 'VERB', '.', 'ADP', 'VERB', 'DET', 'NOUN', 'ADP', 'NOUN', 'ADP', 'DET', 'NOUN', '.']\n",
            "\n",
            "Actual labels:\n",
            "--------------\n",
            "('PRON', 'VERB', 'DET', 'NOUN', 'ADP', 'ADJ', 'ADJ', 'NOUN', 'VERB', 'VERB', '.', 'ADP', 'VERB', 'DET', 'NOUN', 'ADP', 'NOUN', 'ADP', 'DET', 'NOUN', '.')\n",
            "\n",
            "\n",
            "Sentence Key: b100-35462\n",
            "\n",
            "Predicted labels:\n",
            "-----------------\n",
            "['DET', 'ADJ', 'NOUN', 'VERB', 'VERB', 'VERB', 'ADP', 'DET', 'ADJ', 'ADJ', 'NOUN', 'ADP', 'DET', 'ADJ', 'NOUN', '.', 'ADP', 'ADJ', 'NOUN', '.', 'CONJ', 'ADP', 'DET', '<MISSING>', 'ADP', 'ADJ', 'ADJ', '.', 'ADJ', '.', 'CONJ', 'ADJ', 'NOUN', 'ADP', 'ADV', 'NOUN', '.']\n",
            "\n",
            "Actual labels:\n",
            "--------------\n",
            "('DET', 'ADJ', 'NOUN', 'VERB', 'VERB', 'VERB', 'ADP', 'DET', 'ADJ', 'ADJ', 'NOUN', 'ADP', 'DET', 'ADJ', 'NOUN', '.', 'ADP', 'ADJ', 'NOUN', '.', 'CONJ', 'ADP', 'DET', 'NOUN', 'ADP', 'ADJ', 'ADJ', '.', 'ADJ', '.', 'CONJ', 'ADJ', 'NOUN', 'ADP', 'ADJ', 'NOUN', '.')\n",
            "\n",
            "\n"
          ],
          "name": "stdout"
        }
      ]
    },
    {
      "cell_type": "markdown",
      "metadata": {
        "id": "wEB48jIQOQiZ",
        "colab_type": "text"
      },
      "source": [
        "### Evaluating Model Accuracy\n",
        "\n",
        "The function below will evaluate the accuracy of the MFC tagger on the collection of all sentences from a text corpus. "
      ]
    },
    {
      "cell_type": "code",
      "metadata": {
        "id": "zFjVyBnbOQia",
        "colab_type": "code",
        "colab": {}
      },
      "source": [
        "def accuracy(X, Y, model):\n",
        "    \"\"\"Calculate the prediction accuracy by using the model to decode each sequence\n",
        "    in the input X and comparing the prediction with the true labels in Y.\n",
        "    \n",
        "    The X should be an array whose first dimension is the number of sentences to test,\n",
        "    and each element of the array should be an iterable of the words in the sequence.\n",
        "    The arrays X and Y should have the exact same shape.\n",
        "    \n",
        "    X = [(\"See\", \"Spot\", \"run\"), (\"Run\", \"Spot\", \"run\", \"fast\"), ...]\n",
        "    Y = [(), (), ...]\n",
        "    \"\"\"\n",
        "    correct = total_predictions = 0\n",
        "    for observations, actual_tags in zip(X, Y):\n",
        "        \n",
        "        # The model.viterbi call in simplify_decoding will return None if the HMM\n",
        "        # raises an error (for example, if a test sentence contains a word that\n",
        "        # is out of vocabulary for the training set). Any exception counts the\n",
        "        # full sentence as an error (which makes this a conservative estimate).\n",
        "        try:\n",
        "            most_likely_tags = simplify_decoding(observations, model)\n",
        "            correct += sum(p == t for p, t in zip(most_likely_tags, actual_tags))\n",
        "        except:\n",
        "            pass\n",
        "        total_predictions += len(observations)\n",
        "    return correct / total_predictions"
      ],
      "execution_count": 0,
      "outputs": []
    },
    {
      "cell_type": "markdown",
      "metadata": {
        "id": "zAkiL79aOQih",
        "colab_type": "text"
      },
      "source": [
        "#### Evaluate the accuracy of the MFC tagger\n",
        "Run the next cell to evaluate the accuracy of the tagger on the training and test corpus."
      ]
    },
    {
      "cell_type": "code",
      "metadata": {
        "id": "RH0YDMQmOQii",
        "colab_type": "code",
        "outputId": "ed290cb8-87e7-4274-a9cb-3fd03305edbb",
        "colab": {
          "base_uri": "https://localhost:8080/",
          "height": 67
        }
      },
      "source": [
        "mfc_training_acc = accuracy(data.training_set.X, data.training_set.Y, mfc_model)\n",
        "print(\"training accuracy mfc_model: {:.2f}%\".format(100 * mfc_training_acc))\n",
        "\n",
        "mfc_testing_acc = accuracy(data.testing_set.X, data.testing_set.Y, mfc_model)\n",
        "print(\"testing accuracy mfc_model: {:.2f}%\".format(100 * mfc_testing_acc))\n",
        "\n",
        "assert mfc_training_acc >= 0.955, \"Uh oh. Your MFC accuracy on the training set doesn't look right.\"\n",
        "assert mfc_testing_acc >= 0.925, \"Uh oh. Your MFC accuracy on the testing set doesn't look right.\"\n",
        "HTML('<div class=\"alert alert-block alert-success\">Your MFC tagger accuracy looks correct!</div>')"
      ],
      "execution_count": 15,
      "outputs": [
        {
          "output_type": "stream",
          "text": [
            "training accuracy mfc_model: 95.72%\n",
            "testing accuracy mfc_model: 93.02%\n"
          ],
          "name": "stdout"
        },
        {
          "output_type": "execute_result",
          "data": {
            "text/html": [
              "<div class=\"alert alert-block alert-success\">Your MFC tagger accuracy looks correct!</div>"
            ],
            "text/plain": [
              "<IPython.core.display.HTML object>"
            ]
          },
          "metadata": {
            "tags": []
          },
          "execution_count": 15
        }
      ]
    },
    {
      "cell_type": "markdown",
      "metadata": {
        "id": "zeQlenUpOQit",
        "colab_type": "text"
      },
      "source": [
        "## Step 3: Build an HMM tagger\n",
        "---\n",
        "The HMM tagger has one hidden state for each possible tag, and parameterized by two distributions: the emission probabilties giving the conditional probability of observing a given **word** from each hidden state, and the transition probabilities giving the conditional probability of moving between **tags** during the sequence.\n",
        "\n",
        "We will also estimate the starting probability distribution (the probability of each **tag** being the first tag in a sequence), and the terminal probability distribution (the probability of each **tag** being the last tag in a sequence).\n",
        "\n",
        "The maximum likelihood estimate of these distributions can be calculated from the frequency counts as described in the following sections where you'll implement functions to count the frequencies, and finally build the model. The HMM model will make predictions according to the formula:\n",
        "\n",
        "$$t_i^n = \\underset{t_i^n}{\\mathrm{argmax}} \\prod_{i=1}^n P(w_i|t_i) P(t_i|t_{i-1})$$\n",
        "\n",
        "Refer to Speech & Language Processing [Chapter 10](https://web.stanford.edu/~jurafsky/slp3/10.pdf) for more information."
      ]
    },
    {
      "cell_type": "markdown",
      "metadata": {
        "id": "KRf7SrpdOQix",
        "colab_type": "text"
      },
      "source": [
        "### IMPLEMENTATION: Unigram Counts\n",
        "\n",
        "Complete the function below to estimate the co-occurrence frequency of each symbol over all of the input sequences. The unigram probabilities in our HMM model are estimated from the formula below, where N is the total number of samples in the input. (You only need to compute the counts for now.)\n",
        "\n",
        "$$P(tag_1) = \\frac{C(tag_1)}{N}$$"
      ]
    },
    {
      "cell_type": "code",
      "metadata": {
        "id": "JAqyBpi8OQiz",
        "colab_type": "code",
        "outputId": "9737047d-f3e6-43a2-8120-292c187a6331",
        "colab": {
          "base_uri": "https://localhost:8080/",
          "height": 33
        }
      },
      "source": [
        "def unigram_counts(sequences):\n",
        "\n",
        "    #Creating the unigram_count dictionary\n",
        "    unigram_count = dict()\n",
        "    \n",
        "    #Iterating through every tag in sequences\n",
        "    for i in sequences:\n",
        "      \n",
        "      #If the for hasn't iterated through this tag before, it initializes with one, if it already had, just adds one\n",
        "      if (not i in unigram_count.keys()):\n",
        "        unigram_count[i] = 1\n",
        "      else:\n",
        "        unigram_count[i]+=1\n",
        "    \n",
        "    return unigram_count\n",
        "    raise NotImplementedError\n",
        "\n",
        "#Calling unigram_counts with a list of tag sequences from the training set\n",
        "tag_unigrams = unigram_counts(tags)\n",
        "\n",
        "assert set(tag_unigrams.keys()) == data.training_set.tagset, \\\n",
        "       \"Uh oh. It looks like your tag counts doesn't include all the tags!\"\n",
        "assert min(tag_unigrams, key=tag_unigrams.get) == 'X', \\\n",
        "       \"Hmmm...'X' is expected to be the least common class\"\n",
        "assert max(tag_unigrams, key=tag_unigrams.get) == 'NOUN', \\\n",
        "       \"Hmmm...'NOUN' is expected to be the most common class\"\n",
        "HTML('<div class=\"alert alert-block alert-success\">Your tag unigrams look good!</div>')"
      ],
      "execution_count": 16,
      "outputs": [
        {
          "output_type": "execute_result",
          "data": {
            "text/html": [
              "<div class=\"alert alert-block alert-success\">Your tag unigrams look good!</div>"
            ],
            "text/plain": [
              "<IPython.core.display.HTML object>"
            ]
          },
          "metadata": {
            "tags": []
          },
          "execution_count": 16
        }
      ]
    },
    {
      "cell_type": "markdown",
      "metadata": {
        "id": "lsXfYrNGOQi4",
        "colab_type": "text"
      },
      "source": [
        "### IMPLEMENTATION: Bigram Counts\n",
        "\n",
        "Complete the function below to estimate the co-occurrence frequency of each pair of symbols in each of the input sequences. These counts are used in the HMM model to estimate the bigram probability of two tags from the frequency counts according to the formula: $$P(tag_2|tag_1) = \\frac{C(tag_2|tag_1)}{C(tag_2)}$$\n"
      ]
    },
    {
      "cell_type": "code",
      "metadata": {
        "id": "Ruzwa78zOQi5",
        "colab_type": "code",
        "outputId": "b5461bf2-a672-4285-a811-c0fee4d6b4d9",
        "colab": {
          "base_uri": "https://localhost:8080/",
          "height": 33
        }
      },
      "source": [
        "def bigram_counts(sequences):\n",
        "    \"\"\"Return a dictionary keyed to each unique PAIR of values in the input sequences\n",
        "    list that counts the number of occurrences of pair in the sequences list. The input\n",
        "    should be a 2-dimensional array.\n",
        "    \n",
        "    For example, if the pair of tags (NOUN, VERB) appear 61582 times, then you should\n",
        "    return a dictionary such that your_bigram_counts[(NOUN, VERB)] == 61582\n",
        "    \"\"\"\n",
        "    \n",
        "    #Creating the bigram_count dictionary\n",
        "    bigram_count = dict()\n",
        "    \n",
        "    #Iterating through every pair in sequences\n",
        "    for i in sequences:\n",
        "      \n",
        "      #If the for hasn't iterated through this pair before, it initializes with one, if it already had, just adds one\n",
        "      if (not i in bigram_count.keys()):\n",
        "        bigram_count[i] = 1\n",
        "      else:\n",
        "        bigram_count[i]+=1\n",
        "    \n",
        "    return bigram_count\n",
        "    raise NotImplementedError\n",
        "\n",
        "#Creating the array that will have the pairs of tags\n",
        "tags_pairs = []\n",
        "size = len(data.training_set.Y)\n",
        "\n",
        "#A for that iterates through every sentence\n",
        "for i in range(len(data.training_set.Y)):\n",
        "  #A for that iterates through every tag in every sentence\n",
        "  for j in range(len(data.training_set.Y[i])):\n",
        "    temp = []\n",
        "    \n",
        "    #Creates the pair of tags\n",
        "    if(j<len(data.training_set.Y[i])-1):\n",
        "      temp = data.training_set.Y[i][j],data.training_set.Y[i][j+1]\n",
        "      tags_pairs.append(temp)\n",
        "            \n",
        "# Calling bigram_counts with a list of tag sequences from the training set         \n",
        "tag_bigrams = bigram_counts(tags_pairs)\n",
        "\n",
        "assert len(tag_bigrams) == 144, \\\n",
        "       \"Uh oh. There should be 144 pairs of bigrams (12 tags x 12 tags)\"\n",
        "assert min(tag_bigrams, key=tag_bigrams.get) in [('X', 'NUM'), ('PRON', 'X')], \\\n",
        "       \"Hmmm...The least common bigram should be one of ('X', 'NUM') or ('PRON', 'X').\"\n",
        "assert max(tag_bigrams, key=tag_bigrams.get) in [('DET', 'NOUN')], \\\n",
        "       \"Hmmm...('DET', 'NOUN') is expected to be the most common bigram.\"\n",
        "HTML('<div class=\"alert alert-block alert-success\">Your tag bigrams look good!</div>')"
      ],
      "execution_count": 17,
      "outputs": [
        {
          "output_type": "execute_result",
          "data": {
            "text/html": [
              "<div class=\"alert alert-block alert-success\">Your tag bigrams look good!</div>"
            ],
            "text/plain": [
              "<IPython.core.display.HTML object>"
            ]
          },
          "metadata": {
            "tags": []
          },
          "execution_count": 17
        }
      ]
    },
    {
      "cell_type": "markdown",
      "metadata": {
        "id": "eI_DtQ2sOQi9",
        "colab_type": "text"
      },
      "source": [
        "### IMPLEMENTATION: Sequence Starting Counts\n",
        "Complete the code below to estimate the bigram probabilities of a sequence starting with each tag."
      ]
    },
    {
      "cell_type": "code",
      "metadata": {
        "id": "IVzk0jqDOQi-",
        "colab_type": "code",
        "outputId": "4939b8c3-210a-4097-883d-334497fb9261",
        "colab": {
          "base_uri": "https://localhost:8080/",
          "height": 33
        }
      },
      "source": [
        "def starting_counts(sequences):\n",
        "    \"\"\"Return a dictionary keyed to each unique value in the input sequences list\n",
        "    that counts the number of occurrences where that value is at the beginning of\n",
        "    a sequence.\n",
        "    \n",
        "    For example, if 8093 sequences start with NOUN, then you should return a\n",
        "    dictionary such that your_starting_counts[NOUN] == 8093\n",
        "    \"\"\"\n",
        "    \n",
        "    #Creating an array of frequency to initialize the dictionary\n",
        "    frequency = []\n",
        "    \n",
        "    #Initializing the array with zeros\n",
        "    for i in range(len(sequences)):\n",
        "      frequency.append(0) \n",
        "      \n",
        "    #Creating the starting_count dictionary\n",
        "    starting_count = dict(zip(data.training_set.tagset, frequency))\n",
        "    \n",
        "    #A for that iterates through every sentence and adds one on the counter of the first word of that sentence\n",
        "    for i in range(len(sequences)):\n",
        "        starting_count[sequences[i][0]]+=1\n",
        "      \n",
        "    return starting_count\n",
        "    \n",
        "    raise NotImplementedError\n",
        "\n",
        "    \n",
        "# Calculating the count of each tag starting a sequence\n",
        "tag_starts = starting_counts(data.training_set.Y)\n",
        "\n",
        "assert len(tag_starts) == 12, \"Uh oh. There should be 12 tags in your dictionary.\"\n",
        "assert min(tag_starts, key=tag_starts.get) == 'X', \"Hmmm...'X' is expected to be the least common starting bigram.\"\n",
        "assert max(tag_starts, key=tag_starts.get) == 'DET', \"Hmmm...'DET' is expected to be the most common starting bigram.\"\n",
        "HTML('<div class=\"alert alert-block alert-success\">Your starting tag counts look good!</div>')"
      ],
      "execution_count": 18,
      "outputs": [
        {
          "output_type": "execute_result",
          "data": {
            "text/html": [
              "<div class=\"alert alert-block alert-success\">Your starting tag counts look good!</div>"
            ],
            "text/plain": [
              "<IPython.core.display.HTML object>"
            ]
          },
          "metadata": {
            "tags": []
          },
          "execution_count": 18
        }
      ]
    },
    {
      "cell_type": "markdown",
      "metadata": {
        "id": "cW07OhesOQjE",
        "colab_type": "text"
      },
      "source": [
        "### IMPLEMENTATION: Sequence Ending Counts\n",
        "Complete the function below to estimate the bigram probabilities of a sequence ending with each tag."
      ]
    },
    {
      "cell_type": "code",
      "metadata": {
        "id": "4L8tdkjyOQjF",
        "colab_type": "code",
        "outputId": "db09c885-61d1-4af2-8865-4b3c1fa1b917",
        "colab": {
          "base_uri": "https://localhost:8080/",
          "height": 33
        }
      },
      "source": [
        "def ending_counts(sequences):\n",
        "    \"\"\"Return a dictionary keyed to each unique value in the input sequences list\n",
        "    that counts the number of occurrences where that value is at the end of\n",
        "    a sequence.\n",
        "    \n",
        "    For example, if 18 sequences end with DET, then you should return a\n",
        "    dictionary such that your_ending_counts[DET] == 18\n",
        "    \"\"\"\n",
        "    # TODO: Finish this function!\n",
        "    \n",
        "    #Creating an array of frequency to initialize the dictionary\n",
        "    frequency = []\n",
        "    \n",
        "    #Initializing the array with zeros\n",
        "    for i in range(len(sequences)):\n",
        "      frequency.append(0) \n",
        "      \n",
        "    #Creating the ending_count dictionary\n",
        "    ending_count = dict(zip(data.training_set.tagset, frequency))\n",
        "    \n",
        "     #A for that iterates through every sentence and adds one on the counter of the worst word of that sentence\n",
        "    for i in range(len(sequences)):\n",
        "        size = len(sequences[i]) -1\n",
        "        ending_count[sequences[i][size]]+=1\n",
        "     \n",
        "    return ending_count\n",
        "  \n",
        "    raise NotImplementedError\n",
        "\n",
        "# Calculating the count of each tag ending a sequence\n",
        "tag_ends = ending_counts(data.training_set.Y)\n",
        "\n",
        "assert len(tag_ends) == 12, \"Uh oh. There should be 12 tags in your dictionary.\"\n",
        "assert min(tag_ends, key=tag_ends.get) in ['X', 'CONJ'], \"Hmmm...'X' or 'CONJ' should be the least common ending bigram.\"\n",
        "assert max(tag_ends, key=tag_ends.get) == '.', \"Hmmm...'.' is expected to be the most common ending bigram.\"\n",
        "HTML('<div class=\"alert alert-block alert-success\">Your ending tag counts look good!</div>')"
      ],
      "execution_count": 19,
      "outputs": [
        {
          "output_type": "execute_result",
          "data": {
            "text/html": [
              "<div class=\"alert alert-block alert-success\">Your ending tag counts look good!</div>"
            ],
            "text/plain": [
              "<IPython.core.display.HTML object>"
            ]
          },
          "metadata": {
            "tags": []
          },
          "execution_count": 19
        }
      ]
    },
    {
      "cell_type": "markdown",
      "metadata": {
        "id": "R5QmI3TQOQjJ",
        "colab_type": "text"
      },
      "source": [
        "### IMPLEMENTATION: Basic HMM Tagger\n",
        "Use the tag unigrams and bigrams calculated above to construct a hidden Markov tagger.\n",
        "\n",
        "- Add one state per tag\n",
        "    - The emission distribution at each state should be estimated with the formula: $P(w|t) = \\frac{C(t, w)}{C(t)}$\n",
        "- Add an edge from the starting state `basic_model.start` to each tag\n",
        "    - The transition probability should be estimated with the formula: $P(t|start) = \\frac{C(start, t)}{C(start)}$\n",
        "- Add an edge from each tag to the end state `basic_model.end`\n",
        "    - The transition probability should be estimated with the formula: $P(end|t) = \\frac{C(t, end)}{C(t)}$\n",
        "- Add an edge between _every_ pair of tags\n",
        "    - The transition probability should be estimated with the formula: $P(t_2|t_1) = \\frac{C(t_1, t_2)}{C(t_1)}$"
      ]
    },
    {
      "cell_type": "code",
      "metadata": {
        "id": "0u-S33NSOQjK",
        "colab_type": "code",
        "outputId": "a01a64a6-669e-4932-a873-4c2009c5f243",
        "colab": {
          "base_uri": "https://localhost:8080/",
          "height": 33
        }
      },
      "source": [
        "basic_model = HiddenMarkovModel(name=\"base-hmm-tagger\")\n",
        "\n",
        "#Getting the pair_counts\n",
        "pair_count = pair_counts(words, tags)\n",
        "\n",
        "#Creating a dictionary for all the states that'll be created\n",
        "states = dict()\n",
        "\n",
        "#A for that iterates through all the tags in pair_counts\n",
        "for tag in pair_count.keys():\n",
        "  #Creating an auxiliar dictionary that will have the emission probabilities \n",
        "  aux = dict()\n",
        "  #A for that iterates through every word marked with that tag and the calculate the emission probability\n",
        "  for word in pair_count[tag].keys():\n",
        "    aux[word] = pair_count[tag][word] / tag_unigrams[tag]\n",
        "  \n",
        "  emission_distr = DiscreteDistribution(aux)\n",
        "  \n",
        "  #Adding a new state to the states array\n",
        "  states[tag] = State(emission_distr, name=tag)\n",
        " \n",
        "  #Adding the state created for this tag\n",
        "  basic_model.add_state(states[tag])\n",
        "  \n",
        "  \n",
        "\n",
        "#A for that iterates through all unique tags\n",
        "for tag in data.training_set.tagset:\n",
        "  \n",
        "  #Calculating the probability of this tag being in the beggining of a sentence\n",
        "  trans_prob = tag_starts[tag]/len(tag_starts)\n",
        "  \n",
        "  #Adding the edge with the probability of transitioning from state a to state b \n",
        "  basic_model.add_transition(basic_model.start, states[tag], trans_prob)\n",
        "  \n",
        "  \n",
        "  \n",
        "\n",
        "#A for that iterates through all unique tags\n",
        "for tag in data.training_set.tagset:\n",
        "  \n",
        "  #Calculating the probability of this tag being in the end of a sentence\n",
        "  trans_prob - tag_ends[tag]/len(tag_ends)\n",
        "  \n",
        "   \n",
        "  #Adding the edge with the probability of transitioning from state a to state b \n",
        "  basic_model.add_transition(states[tag], basic_model.end, trans_prob)\n",
        "  \n",
        "\n",
        "  \n",
        "  \n",
        "#A for that iterates through all unique tags\n",
        "for tag1 in data.training_set.tagset:\n",
        "  #A for that iterates through all unique tags\n",
        "  for tag2 in data.training_set.tagset:\n",
        "    \n",
        "    #Calculating the probability of transitioning from state a to state b \n",
        "    trans_prob = tag_bigrams[tag1, tag2]/tag_unigrams[tag1]\n",
        "    \n",
        "     \n",
        "    #Adding the edge with the probability of transitioning calculated\n",
        "    basic_model.add_transition(states[tag1], states[tag2], trans_prob)\n",
        "  \n",
        "\n",
        "# NOTE: YOU SHOULD NOT NEED TO MODIFY ANYTHING BELOW THIS LINE\n",
        "# finalize the model\n",
        "basic_model.bake()\n",
        "\n",
        "assert all(tag in set(s.name for s in basic_model.states) for tag in data.training_set.tagset), \\\n",
        "       \"Every state in your network should use the name of the associated tag, which must be one of the training set tags.\"\n",
        "assert basic_model.edge_count() == 168, \\\n",
        "       (\"Your network should have an edge from the start node to each state, one edge between every \" +\n",
        "        \"pair of tags (states), and an edge from each state to the end node.\")\n",
        "HTML('<div class=\"alert alert-block alert-success\">Your HMM network topology looks good!</div>')"
      ],
      "execution_count": 80,
      "outputs": [
        {
          "output_type": "execute_result",
          "data": {
            "text/html": [
              "<div class=\"alert alert-block alert-success\">Your HMM network topology looks good!</div>"
            ],
            "text/plain": [
              "<IPython.core.display.HTML object>"
            ]
          },
          "metadata": {
            "tags": []
          },
          "execution_count": 80
        }
      ]
    },
    {
      "cell_type": "code",
      "metadata": {
        "scrolled": true,
        "id": "5Wk5iIdYOQjN",
        "colab_type": "code",
        "outputId": "a76cd237-9039-4861-d863-3e9137eb5ec3",
        "colab": {
          "base_uri": "https://localhost:8080/",
          "height": 67
        }
      },
      "source": [
        "hmm_training_acc = accuracy(data.training_set.X, data.training_set.Y, basic_model)\n",
        "print(\"training accuracy basic hmm model: {:.2f}%\".format(100 * hmm_training_acc))\n",
        "\n",
        "hmm_testing_acc = accuracy(data.testing_set.X, data.testing_set.Y, basic_model)\n",
        "print(\"testing accuracy basic hmm model: {:.2f}%\".format(100 * hmm_testing_acc))\n",
        "\n",
        "assert hmm_training_acc > 0.97, \"Uh oh. Your HMM accuracy on the training set doesn't look right.\"\n",
        "assert hmm_testing_acc > 0.955, \"Uh oh. Your HMM accuracy on the testing set doesn't look right.\"\n",
        "HTML('<div class=\"alert alert-block alert-success\">Your HMM tagger accuracy looks correct! Congratulations, you\\'ve finished the project.</div>')"
      ],
      "execution_count": 81,
      "outputs": [
        {
          "output_type": "stream",
          "text": [
            "training accuracy basic hmm model: 97.54%\n",
            "testing accuracy basic hmm model: 95.95%\n"
          ],
          "name": "stdout"
        },
        {
          "output_type": "execute_result",
          "data": {
            "text/html": [
              "<div class=\"alert alert-block alert-success\">Your HMM tagger accuracy looks correct! Congratulations, you've finished the project.</div>"
            ],
            "text/plain": [
              "<IPython.core.display.HTML object>"
            ]
          },
          "metadata": {
            "tags": []
          },
          "execution_count": 81
        }
      ]
    },
    {
      "cell_type": "markdown",
      "metadata": {
        "id": "OONBmJa6OQjR",
        "colab_type": "text"
      },
      "source": [
        "### Example Decoding Sequences with the HMM Tagger"
      ]
    },
    {
      "cell_type": "code",
      "metadata": {
        "id": "6nnPBX21OQjS",
        "colab_type": "code",
        "outputId": "6005034f-7462-4528-abc1-f9381dacc244",
        "colab": {
          "base_uri": "https://localhost:8080/",
          "height": 587
        }
      },
      "source": [
        "for key in data.testing_set.keys[:3]:\n",
        "    print(\"Sentence Key: {}\\n\".format(key))\n",
        "    print(\"Predicted labels:\\n-----------------\")\n",
        "    print(simplify_decoding(data.sentences[key].words, basic_model))\n",
        "    print()\n",
        "    print(\"Actual labels:\\n--------------\")\n",
        "    print(data.sentences[key].tags)\n",
        "    print(\"\\n\")"
      ],
      "execution_count": 78,
      "outputs": [
        {
          "output_type": "stream",
          "text": [
            "Sentence Key: b100-28144\n",
            "\n",
            "Predicted labels:\n",
            "-----------------\n",
            "['CONJ', 'NOUN', 'NUM', '.', 'NOUN', 'NUM', '.', 'NOUN', 'NUM', '.', 'CONJ', 'NOUN', 'NUM', '.', '.', 'NOUN', '.', '.']\n",
            "\n",
            "Actual labels:\n",
            "--------------\n",
            "('CONJ', 'NOUN', 'NUM', '.', 'NOUN', 'NUM', '.', 'NOUN', 'NUM', '.', 'CONJ', 'NOUN', 'NUM', '.', '.', 'NOUN', '.', '.')\n",
            "\n",
            "\n",
            "Sentence Key: b100-23146\n",
            "\n",
            "Predicted labels:\n",
            "-----------------\n",
            "['PRON', 'VERB', 'DET', 'NOUN', 'ADP', 'ADJ', 'ADJ', 'NOUN', 'VERB', 'VERB', '.', 'ADP', 'VERB', 'DET', 'NOUN', 'ADP', 'NOUN', 'ADP', 'DET', 'NOUN', '.']\n",
            "\n",
            "Actual labels:\n",
            "--------------\n",
            "('PRON', 'VERB', 'DET', 'NOUN', 'ADP', 'ADJ', 'ADJ', 'NOUN', 'VERB', 'VERB', '.', 'ADP', 'VERB', 'DET', 'NOUN', 'ADP', 'NOUN', 'ADP', 'DET', 'NOUN', '.')\n",
            "\n",
            "\n",
            "Sentence Key: b100-35462\n",
            "\n",
            "Predicted labels:\n",
            "-----------------\n",
            "['DET', 'ADJ', 'NOUN', 'VERB', 'VERB', 'VERB', 'ADP', 'DET', 'ADJ', 'ADJ', 'NOUN', 'ADP', 'DET', 'ADJ', 'NOUN', '.', 'ADP', 'ADJ', 'NOUN', '.', 'CONJ', 'ADP', 'DET', 'NOUN', 'ADP', 'ADJ', 'ADJ', '.', 'ADJ', '.', 'CONJ', 'ADJ', 'NOUN', 'ADP', 'ADJ', 'NOUN', '.']\n",
            "\n",
            "Actual labels:\n",
            "--------------\n",
            "('DET', 'ADJ', 'NOUN', 'VERB', 'VERB', 'VERB', 'ADP', 'DET', 'ADJ', 'ADJ', 'NOUN', 'ADP', 'DET', 'ADJ', 'NOUN', '.', 'ADP', 'ADJ', 'NOUN', '.', 'CONJ', 'ADP', 'DET', 'NOUN', 'ADP', 'ADJ', 'ADJ', '.', 'ADJ', '.', 'CONJ', 'ADJ', 'NOUN', 'ADP', 'ADJ', 'NOUN', '.')\n",
            "\n",
            "\n"
          ],
          "name": "stdout"
        }
      ]
    },
    {
      "cell_type": "markdown",
      "metadata": {
        "id": "JatWVV4-OQjY",
        "colab_type": "text"
      },
      "source": [
        "## Step 4: [Optional] Improving model performance\n",
        "---\n",
        "There are additional enhancements that can be incorporated into your tagger that improve performance on larger tagsets where the data sparsity problem is more significant. The data sparsity problem arises because the same amount of data split over more tags means there will be fewer samples in each tag, and there will be more missing data  tags that have zero occurrences in the data. The techniques in this section are optional.\n",
        "\n",
        "- [Laplace Smoothing](https://en.wikipedia.org/wiki/Additive_smoothing) (pseudocounts)\n",
        "    Laplace smoothing is a technique where you add a small, non-zero value to all observed counts to offset for unobserved values.\n",
        "\n",
        "- Backoff Smoothing\n",
        "    Another smoothing technique is to interpolate between n-grams for missing data. This method is more effective than Laplace smoothing at combatting the data sparsity problem. Refer to chapters 4, 9, and 10 of the [Speech & Language Processing](https://web.stanford.edu/~jurafsky/slp3/) book for more information.\n",
        "\n",
        "- Extending to Trigrams\n",
        "    HMM taggers have achieved better than 96% accuracy on this dataset with the full Penn treebank tagset using an architecture described in [this](http://www.coli.uni-saarland.de/~thorsten/publications/Brants-ANLP00.pdf) paper. Altering your HMM to achieve the same performance would require implementing deleted interpolation (described in the paper), incorporating trigram probabilities in your frequency tables, and re-implementing the Viterbi algorithm to consider three consecutive states instead of two.\n",
        "\n",
        "### Obtain the Brown Corpus with a Larger Tagset\n",
        "Run the code below to download a copy of the brown corpus with the full NLTK tagset. You will need to research the available tagset information in the NLTK docs and determine the best way to extract the subset of NLTK tags you want to explore. If you write the following the format specified in Step 1, then you can reload the data using all of the code above for comparison.\n",
        "\n",
        "Refer to [Chapter 5](http://www.nltk.org/book/ch05.html) of the NLTK book for more information on the available tagsets."
      ]
    },
    {
      "cell_type": "code",
      "metadata": {
        "id": "IRa5AKd_OQja",
        "colab_type": "code",
        "outputId": "db0c93a0-5a5e-4ca3-94c3-5983162ac12e",
        "colab": {
          "base_uri": "https://localhost:8080/",
          "height": 467
        }
      },
      "source": [
        "import nltk\n",
        "from nltk import pos_tag, word_tokenize\n",
        "from nltk.corpus import brown\n",
        "\n",
        "nltk.download('brown')\n",
        "training_corpus = nltk.corpus.brown\n",
        "training_corpus.tagged_sents()[0]"
      ],
      "execution_count": 79,
      "outputs": [
        {
          "output_type": "stream",
          "text": [
            "[nltk_data] Downloading package brown to /root/nltk_data...\n",
            "[nltk_data]   Unzipping corpora/brown.zip.\n"
          ],
          "name": "stdout"
        },
        {
          "output_type": "execute_result",
          "data": {
            "text/plain": [
              "[('The', 'AT'),\n",
              " ('Fulton', 'NP-TL'),\n",
              " ('County', 'NN-TL'),\n",
              " ('Grand', 'JJ-TL'),\n",
              " ('Jury', 'NN-TL'),\n",
              " ('said', 'VBD'),\n",
              " ('Friday', 'NR'),\n",
              " ('an', 'AT'),\n",
              " ('investigation', 'NN'),\n",
              " ('of', 'IN'),\n",
              " (\"Atlanta's\", 'NP$'),\n",
              " ('recent', 'JJ'),\n",
              " ('primary', 'NN'),\n",
              " ('election', 'NN'),\n",
              " ('produced', 'VBD'),\n",
              " ('``', '``'),\n",
              " ('no', 'AT'),\n",
              " ('evidence', 'NN'),\n",
              " (\"''\", \"''\"),\n",
              " ('that', 'CS'),\n",
              " ('any', 'DTI'),\n",
              " ('irregularities', 'NNS'),\n",
              " ('took', 'VBD'),\n",
              " ('place', 'NN'),\n",
              " ('.', '.')]"
            ]
          },
          "metadata": {
            "tags": []
          },
          "execution_count": 79
        }
      ]
    }
  ]
}